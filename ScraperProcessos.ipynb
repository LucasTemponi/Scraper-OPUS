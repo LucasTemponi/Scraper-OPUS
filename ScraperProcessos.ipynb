{
 "cells": [
  {
   "cell_type": "code",
   "metadata": {
    "cell_id": "00000-686ea25f-cba2-49ba-b633-81c81a2463a4",
    "deepnote_to_be_reexecuted": false,
    "source_hash": "721011e7",
    "execution_start": 1637820088184,
    "execution_millis": 2,
    "output_cleared": false,
    "deepnote_cell_type": "code"
   },
   "source": "#Instala MechanicalSoup/Selenium, biblioteca para acesso e ações em sites\n#!pip install MechanicalSoup\n#!pip install beautifulsoup4\n#!pip install selenium\n#!pip install gspread\n#!pip install pandas",
   "outputs": [],
   "execution_count": null
  },
  {
   "cell_type": "code",
   "metadata": {
    "cell_id": "00001-42b93dea-1e45-4b55-bc17-ff43eac2f755",
    "deepnote_to_be_reexecuted": false,
    "source_hash": "fb94c900",
    "execution_start": 1637820088208,
    "execution_millis": 495,
    "deepnote_cell_type": "code"
   },
   "source": "from selenium import webdriver\nfrom selenium.webdriver.common.keys import Keys\nfrom selenium.webdriver.support.ui import WebDriverWait\nfrom selenium.webdriver.support import expected_conditions as EC\nfrom selenium.webdriver import Chrome\nfrom selenium.webdriver.chrome.options import Options\nfrom selenium.webdriver.common.by import By\nimport gspread\nimport pandas as pd\n\n#import re\n#import pandas as pd\n#import mechanicalsoup as ms\n#from bs4 import BeautifulSoup",
   "outputs": [],
   "execution_count": null
  },
  {
   "cell_type": "code",
   "metadata": {
    "tags": [],
    "cell_id": "00004-921eb8e4-e34a-4a84-9964-6cb07e54d07d",
    "deepnote_to_be_reexecuted": false,
    "source_hash": "31f854dc",
    "execution_start": 1637820088724,
    "execution_millis": 1491,
    "deepnote_cell_type": "code"
   },
   "source": "gc = gspread.oauth(\n    credentials_filename='/work/credentials.json',\n    authorized_user_filename='/work/authorized_user_pbh.json'\n)\nsd=gc.open_by_key('1oPqk1baAmyUjKOMPNuwsjIjb4X5Jlx1jPyBpN_adVsA')\nprocessos = sd.worksheet('Processos GENC').col_values(5)\ndef check_alert(driver):\n    try:\n        WebDriverWait(driver,1).until(EC.alert_is_present())\n        return 1\n    except :\n        return 0",
   "outputs": [],
   "execution_count": null
  },
  {
   "cell_type": "code",
   "metadata": {
    "tags": [],
    "cell_id": "00007-d609346a-54fc-457a-a2cf-dd1494415e2f",
    "deepnote_to_be_reexecuted": false,
    "source_hash": "3f19b59f",
    "execution_start": 1637820090234,
    "execution_millis": 171377,
    "deepnote_output_heights": [
     null,
     98
    ],
    "deepnote_cell_type": "code"
   },
   "source": "url = \"http://consultaprocessoopus.pbh.gov.br/consproc/\"\nsituação=[['Setor anterior','Setor atual','Data de envio']]\nprint('URL definida')\nchrome_options = Options()\nchrome_options.add_argument('--no-sandbox')\nchrome_options.add_argument('--headless')\nprint('Definições do Chrome ok')\ndriver = Chrome(options=chrome_options)\nprint('Driver aberto')\nwait = WebDriverWait(driver,10)\ndriver.get(url)\nfor i in range(len(processos)-1):\n    numero = processos[i+1].replace('.','').replace(' ','')\n    if len(numero)<11 or len(numero)>12:\n        situação.append(['OPUS incorreto','',''])\n        continue\n    if len(numero)==11:\n        numero='0'+numero\n    try:\n        print(processos[i+1])\n        driver.find_element(by='name', value='processo.codigo').send_keys([numero,Keys.RETURN])\n        element=wait.until(EC.visibility_of_element_located((By.NAME,'orgao.nome')))\n        setor_atual = driver.find_element(by='name',value='orgao.orgaoDestino').get_attribute('value').split('-')[0]\n        setor_anterior = driver.find_element(by='name',value='orgao.nome').get_attribute('value').split('-')[0]\n        data = driver.find_element(by='name',value='processo.dataCadastro').get_attribute('value')\n        situação.append([setor_anterior,setor_atual,data])\n        print([data,setor_anterior,setor_atual])\n        driver.find_element(by='id',value='new_search').send_keys(Keys.RETURN)\n    except Exception:\n        wait.until(EC.alert_is_present())\n        driver.switch_to.alert.accept()\n        print('Eita')\n        situação.append(['OPUS incorreto','',''])\n        while(check_alert(driver)):\n            try:\n                wait.until(EC.alert_is_present())\n                driver.switch_to.alert.accept()\n                driver.find_element(by='name', value='processo.codigo').clear()\n                print('OK')\n            \n            except:\n                print('Eu hein')\ndriver.quit()\nsd.worksheet('Processos GENC').batch_clear([\"F1:H\"])\nsd.worksheet('Processos GENC').update('F1',situação)",
   "outputs": [
    {
     "name": "stdout",
     "text": "URL definida\nDefinições do Chrome ok\nDriver aberto\n010503351951\n['02/05/2019', 'SECOL', 'GCOM']\n010226171814\n['15/02/2018', 'SECOL', 'GCOM']\n10.290.271.859\n['23/02/2018', 'AJUR', 'GCOM']\n11.249.281.860\n['05/09/2018', 'SECOL', 'GCOM']\n11.501.721.822\n['01/11/2018', 'SECOL', 'GCOM']\n10.377.731.924\n['01/04/2019', 'SECOL', 'GCOM']\n10.391.401.979\n['02/04/2019', 'DPGF', 'GENC']\n10.503.461.978\n['02/05/2019', 'SECOL', 'GCOM']\n10.834.551.907\n['24/07/2019', 'DPGF', 'GENC']\n10.866.131.954\n['02/08/2019', 'SECOL', 'GCOM']\n10.875.721.904\n['05/08/2019', 'DPGF', '']\n10.887.461.929\n['07/08/2019', 'SECOL', 'GCOM']\n10.887.431.930\n['07/08/2019', 'AJU', 'GCOM']\n10.894.331.989\n['09/08/2019', 'GCOM', 'GEOF']\n10.979.431.933\nEita\nOK\n10.929.451.969\n['21/08/2019', 'DPGF', 'GCOM']\n10.947.661.910\n['26/08/2019', 'GEOF', 'GCOM']\n10.949.811.901\n['26/08/2019', 'GCOM', 'DPGF']\n11.153.911.919\n['18/10/2019', 'GCOM', 'DPGF']\n11.155.221.995\n['18/10/2019', 'SECOL', 'GCOM']\n11.321.021.946\n['05/12/2019', 'DPGF', 'GCOM']\n11.340.301.908\n['11/12/2019', 'DPGF', 'GCOM']\n11.374.551.923\n['18/12/2019', 'GENC', 'GCOM']\n10.000.302.004\n['02/01/2020', 'DPGF', 'GCOM']\n10.000.332.094\n['02/01/2020', 'AJUR', 'GCOM']\n10.103.512.036\n['30/01/2020', 'DPGF', 'GCOM']\n10.103.572.012\n['30/01/2020', 'GAB', 'GCOM']\n10.103.702.080\n['30/01/2020', 'GCOM', 'DPGF']\n10.101.492.003\n['30/01/2020', 'GCOM', 'DPGF']\n10.130.672.049\n['06/02/2020', 'GCOM', 'DPGF']\n10.124.042.071\n['05/02/2020', 'AJUR', 'GCOM']\n10.133.502.080\n['06/02/2020', 'SECOL', 'GCOM']\n10.166.542.080\n['14/02/2020', 'DPGF', 'SECOL']\n10.172.482.035\n['17/02/2020', 'DPGF', 'GCOM']\n10.173.662.061\n['18/02/2020', 'GENC', 'GCOM']\n10.183.162.029\n['19/02/2020', 'GENC', 'GCOM']\n10.213.792.017\n['02/03/2020', 'DPGF', 'GCOM']\n10.219.442.000\n['03/03/2020', 'GENC', 'GCOM']\n10.297.952.045\n['30/03/2020', 'DPGF', '']\n10.306.632.001\n['02/04/2020', 'GENC', 'GCOM']\n10.306.622.049\n['02/04/2020', 'GENC', 'GCOM']\n10.317.582.051\n['09/04/2020', 'GCOM', 'SECOL']\n10.326.032.050\n['15/04/2020', 'SECOL', 'GENC']\n10.338.262.080\n['23/04/2020', 'GAB', 'GCOM']\n10.344.222.087\n['27/04/2020', 'GCOM', 'GEOF']\n10.355.692.020\n['04/05/2020', 'DPGF', 'GCOM']\n10.361.952.098\n['06/05/2020', 'SECOL', 'GCOM']\n10.360.242.003\n['06/05/2020', 'GEOF', 'GCOM']\n10.374.722.061\n['13/05/2020', 'GEOF', 'GCOM']\n10.376.752.049\n['14/05/2020', 'GCOM', 'SECOL']\n10.387.712.078\n['20/05/2020', 'DPGF', 'GCOM']\n10.394.642.004\n['22/05/2020', 'GEOF', 'GCOM']\n10.395.752.075\n['25/05/2020', 'GCOM', 'GENC']\n10.393.662.095\n['22/05/2020', 'SECOL', 'GCOM']\n10.404.232.024\n['28/05/2020', 'GCOM', 'SECOL']\n10.405.942.070\nEita\nOK\n10.411.082.032\n['01/06/2020', 'GENC', 'GCOM']\n10.430.792.007\n['10/06/2020', 'DPGF', 'GCOM']\n10.665.721.916\n['11/06/2019', 'GCOM', 'GENC']\n10.497.722.000\n['13/07/2020', 'DPGF', 'SECOL']\n01 045599 20 18\n['23/06/2020', 'SECOL', 'GCOM']\n10481742015\n['06/07/2020', 'AJU', 'GENC']\n10459342050\n['24/06/2020', 'DPGF', 'GENC']\n10466292012\n['29/06/2020', 'DPGF', 'GENC']\n10466282050\n['29/06/2020', 'GEOF', 'GCOM']\n10466532005\n['29/06/2020', 'GENC', 'GCOM']\n01 050064 20 50\n['14/07/2020', 'GENC', 'GCOM']\n01 047477 20 01\n['02/07/2020', 'DPGF', 'GCOM']\n01 054948 20 56\n['04/08/2020', 'GAB', 'GCOM']\n10.983.401.800\n['10/07/2018', 'DPGF', 'GCOM']\n11.223.191.820\n['30/08/2018', 'GCOM', 'SECOL']\n10.287.091.934\n['11/03/2019', 'GAB', 'GCOM']\n10.362.541.911\n['27/03/2019', 'SECOL', 'GCOM']\n11.004.841.994\n['10/09/2019', 'GEOF', 'GCOM']\n11.069.091.914\n['26/09/2019', 'GENC', '']\n10.405.952.080\n['29/05/2020', 'DPGF', 'GENC']\n10.621.292.009\n['03/09/2020', 'GAB', 'GCOM']\n10.626.382.014\n['08/09/2020', 'DPGF', '']\n106.651.000.000\nEita\nOK\n10.674.202.047\n['23/09/2020', 'GENC', 'GCOM']\n10.739.652.092\n['15/10/2020', 'SECOL', 'GCOM']\n10.747.682.027\n['20/10/2020', 'DPGF', 'GCOM']\n10.754.032.083\n['21/10/2020', 'GENC', 'GCOM']\n10.754.012.058\n['21/10/2020', 'DPGF', 'GENC']\n10.763.752.085\n['26/10/2020', 'GENC', 'GCOM']\n10.763.282.003\n['26/10/2020', 'GCOM', 'DPGF']\n10.766.982.014\n['27/10/2020', 'GEOF', '']\n10.768.302.070\n['27/10/2020', 'GEOF', 'GCOM']\n10.766.972.051\n['27/10/2020', 'SECOL', '']\n10805842079\n['12/11/2020', 'GCOM', '']\n10802992002\n['12/11/2020', 'HOB ', 'GCOM']\n10.814.362.017\n['16/11/2020', 'GEOF', 'GCOM']\n10.832.502.020\n['23/11/2020', 'GEOF', 'GCOM']\n10.853.642.050\n['30/11/2020', 'HOB ', 'GCOM']\n11.423.511.543\n['05/10/2015', 'GCOM', '']\n10.660.071.689\n['20/05/2016', 'DAF', 'GMAT']\n10.127.801.879\n['25/01/2018', 'HOB ', 'DAF']\n10.127.771.864\n['25/01/2018', 'GENG', 'GMAT']\n10.916.571.898\n['26/06/2018', 'SECOL', 'GCOM']\n11.002.751.823\n['13/07/2018', 'SECOL', 'GCOM']\n11.011.651.860\n['17/07/2018', 'HOB ', 'GMAT']\n11.164.851.815\n['17/08/2018', 'GAB', 'GCOM']\n11.164.861.888\n['17/08/2018', 'SECOL', 'GCOM']\n11.164.891.876\n['17/08/2018', 'GAB', 'GCOM']\n11.223.231.806\n['30/08/2018', 'SECOL', '']\n11.508.361.880\n['05/11/2018', 'SECOL', 'GCOM']\n10.034.891.908\n['10/01/2019', 'DPGF', 'GENC']\n10.034.861.901\n['10/01/2019', 'GMED', '']\n10.075.431.995\n['21/01/2019', 'GCOM', 'DPGF']\n100.754.441.958\nEita\nOK\n10.192.411.923\n['14/02/2019', 'SECOL', 'GCOM']\n10.210.091.964\n['19/02/2019', 'GCOM', 'SECOL']\n10.211.941.988\n['19/02/2019', 'SECOL', 'GCOM']\n10.212.021.904\n['19/02/2019', 'DPGF', 'GENC']\n10.233.931.985\n['22/02/2019', 'GCOM', '']\n10.270.611.905\n['07/03/2019', 'GAB', 'GCOM']\n10.270.621.960\n['07/03/2019', 'DPGF', 'GCOM']\n10.281.161.922\n['08/03/2019', 'SECOL', 'GCOM']\n10.287.141.974\n['11/03/2019', 'GAB', 'GCOM']\n10.306.221.990\n['14/03/2019', 'SECOL', 'GCOM']\n10.309.771.916\n['15/03/2019', 'GAB', 'GCOM']\n10.325.251.905\n['19/03/2019', 'SECOL', 'GCOM']\n10.416.641.900\n['09/04/2019', 'SECOL', 'GCOM']\n10.153.351.923\n['06/02/2019', 'DPGF', 'GENC']\n10.503.401.991\n['02/05/2019', 'DPGF', 'GENC']\n10.503.451.905\n['02/05/2019', 'SECOL', 'GCOM']\n10.503.421.917\n['02/05/2019', 'GAB', 'GCOM']\n10.665.731.989\n['11/06/2019', 'HOB ', 'GCOM']\n10.806.041.789\n['21/06/2017', 'GENC', 'GCOM']\n11.144.061.797\n['28/08/2017', 'HOB ', 'GMAT']\n10.345.131.816\n['05/03/2018', 'DAF', 'GMAT']\n10.422.161.907\n['10/04/2019', 'GAB', 'GCOM']\n10.929.441.904\n['21/08/2019', 'HOB ', 'GCOM']\n10033042117\n['18/01/2021', 'GENC', 'GCOM']\n10.022.102.130\n['13/01/2021', 'SECOL', '']\n10.026.312.198\n['14/01/2021', 'DPGF', 'SECOL']\n10.028.242.111\n['14/01/2021', 'GEOF', 'GCOM']\n10.054.502.150\n['27/01/2021', 'GCOM', '']\n10.067.622.108\n['01/02/2021', 'GENC', 'GCOM']\n10178502135\n['18/03/2021', 'DPGF', 'GCOM']\n10197092168\n['25/03/2021', 'DPGF', 'SECOL']\n10198062114\n['25/03/2021', 'AJU', '']\n10201042174\n['26/03/2021', 'GENC', 'GCOM']\n01.02543721.44\n['22/04/2021', 'SECOL', '']\n01.037849.21.09\n['16/06/2021', 'GAB', 'GCOM']\n01.039199.21.36\n['22/06/2021', 'GENC', '']\n01.045308.21.54\n['19/07/2021', 'GENC', 'GCOM']\n01.046960.21.87\n['27/07/2021', 'GENC', 'GCOM']\n01.050600.21.25\n['11/08/2021', 'SECOL', '']\n01.050948.21.95\n['12/08/2021', 'SECOL', '']\n01.052745.21.89\n['19/08/2021', 'GENC', 'GCOM']\n01.052747.21.04\n['19/08/2021', 'GENC', 'GCOM']\n10.747.672.064\n['20/10/2020', 'DPGF', 'GCOM']\n11.250.031.863\n['05/09/2018', 'HOB ', 'GCOM']\n10.381.501.997\n['01/04/2019', 'GENC', '']\n01 049187 17 05\n['18/04/2017', 'GENC', 'GCOM']\n10.404.132.070\n['28/05/2020', 'GCOM', '']\n10.411.102.084\n['01/06/2020', 'SECOL', 'AJU']\n01 058428 20 68\n['19/08/2020', 'GAB', 'GCOM']\n10.806.901.982\n['17/07/2019', 'SECOL', 'GCOM']\n10.622.662.071\n['04/09/2020', 'GENC', 'GCOM']\n10.621.312.042\n['03/09/2020', 'HOB ', 'GENC']\n01 151358 15 83\n['22/10/2015', 'DPGF', 'GCOM']\n10803002090\n['12/11/2020', 'GENC', 'GEOF']\n10.603.311.501\n['11/05/2015', 'GENC', 'GCOM']\n11.055.861.607\n['03/08/2016', 'DPGF', 'GCOM']\n11.123.571.893\n['08/08/2018', 'GAB', 'GCOM']\n11.250.351.850\n['05/09/2018', 'GEOF', 'GENC']\n11.319.171.863\n['21/09/2018', 'HOB ', 'GMAT']\n11.493.981.808\n['31/10/2018', 'SECOL', 'GCOM']\n10411102084\n['01/06/2020', 'SECOL', 'AJU']\n11.738.041.691\n['27/12/2016', 'GENG', 'GMAT']\n10.226.181.887\n['15/02/2018', 'GENC', 'GCOM']\n10.362.591.935\n['27/03/2019', 'GENC', 'GCOM']\n10.783.231.919\n['11/07/2019', 'GENC', 'GCOM']\n11.382.331.694\n['10/10/2016', 'GENC', 'GCOM']\n10.035.582.135\n['19/01/2021', 'HOB ', 'GCOM']\n10.041.282.121\n['21/01/2021', 'HOB ', 'GCOM']\n10141062115\n['03/03/2021', 'DPGF', 'GCOM']\n01 123795 15 80\n['01/09/2015', 'GENC', 'GCOM']\n01 124232 16 53\n['09/09/2016', 'GENC', 'GCOM']\n10.144.411.854\n['30/01/2018', 'GCOM', '']\n01 028576 15 09\n['09/03/2015', 'GENC', 'GCOM']\n10.362.651.938\n['27/03/2019', 'DASS', 'GCOM']\n01 173807 16 80\n['27/12/2016', 'GENC', 'GCOM']\n10.048.832.070\n['15/01/2020', 'GENC', 'GCOM']\n01 049182 17 83\n['18/04/2017', 'GAB', 'GCOM']\n11.226.651.881\n['30/08/2018', 'GENC', 'GCOM']\n10.642.141.905\n['05/06/2019', 'DPGF', 'GCOM']\n10.355.681.924\n['26/03/2019', 'GENC', 'GCOM']\n10.362.671.963\n['27/03/2019', 'GENC', 'GCOM']\n01 096537 16 51\n['15/07/2016', 'DPGF', 'GCOM']\n11.150.111.784\n['29/08/2017', 'DPGF', 'GCOM']\n01 085091 16 02\n['27/06/2016', 'GENC', 'GCOM']\n10.381.421.910\nEita\nOK\n10.314.701.807\n['28/02/2018', 'DPGF', 'GCOM']\n11.319.141.875\n['21/09/2018', 'GINF', 'GCOM']\n11.225.561.846\n['30/08/2018', 'DASS', 'GCOM']\n10.362.621.940\n['27/03/2019', 'GAB', 'GCOM']\n11.725.781.810\n['28/12/2018', 'DASS', 'GCOM']\n01.02428521.62\n['15/04/2021', 'GAB', 'GCOM']\n01.02400021.10\n['14/04/2021', 'GENC', 'GCOM']\n01.039197.21.00\n['22/06/2021', 'GENC', 'GCOM']\n01.052396.21.31\n['18/08/2021', 'SECOL', '']\n01.052393.21.43\n['18/08/2021', 'GENC', 'GCOM']\n01.052742.21.89\nEita\nOK\n01.052747.21.04\n['19/08/2021', 'GENC', 'GCOM']\n01.061288.21.50\n['27/09/2021', 'GENC', 'GCOM']\n01.014105.21.52\n['03/03/2021', 'GAB', 'GCOM']\n01.068962.21.36\n['05/11/2021', 'GENC', 'GCOM']\n01.062266.21.52\n['01/10/2021', 'GENC', 'GCOM']\n",
     "output_type": "stream"
    },
    {
     "output_type": "execute_result",
     "execution_count": 4,
     "data": {
      "text/plain": "{'spreadsheetId': '1oPqk1baAmyUjKOMPNuwsjIjb4X5Jlx1jPyBpN_adVsA',\n 'updatedRange': \"'Processos GENC'!F1:H229\",\n 'updatedRows': 229,\n 'updatedColumns': 3,\n 'updatedCells': 687}"
     },
     "metadata": {}
    }
   ],
   "execution_count": null
  },
  {
   "cell_type": "code",
   "metadata": {
    "tags": [],
    "cell_id": "00006-e62adfe1-ba8d-46fa-ba38-852c6c2c9794",
    "deepnote_to_be_reexecuted": false,
    "source_hash": "b623e53d",
    "execution_start": 1637820261618,
    "execution_millis": 7,
    "deepnote_cell_type": "code"
   },
   "source": "",
   "outputs": [],
   "execution_count": null
  },
  {
   "cell_type": "markdown",
   "source": "<a style='text-decoration:none;line-height:16px;display:flex;color:#5B5B62;padding:10px;justify-content:end;' href='https://deepnote.com?utm_source=created-in-deepnote-cell&projectId=4b9939ca-ead4-4e22-967b-7d9f4e69d346' target=\"_blank\">\n<img alt='Created in deepnote.com' style='display:inline;max-height:16px;margin:0px;margin-right:7.5px;' src='data:image/svg+xml;base64,PD94bWwgdmVyc2lvbj0iMS4wIiBlbmNvZGluZz0iVVRGLTgiPz4KPHN2ZyB3aWR0aD0iODBweCIgaGVpZ2h0PSI4MHB4IiB2aWV3Qm94PSIwIDAgODAgODAiIHZlcnNpb249IjEuMSIgeG1sbnM9Imh0dHA6Ly93d3cudzMub3JnLzIwMDAvc3ZnIiB4bWxuczp4bGluaz0iaHR0cDovL3d3dy53My5vcmcvMTk5OS94bGluayI+CiAgICA8IS0tIEdlbmVyYXRvcjogU2tldGNoIDU0LjEgKDc2NDkwKSAtIGh0dHBzOi8vc2tldGNoYXBwLmNvbSAtLT4KICAgIDx0aXRsZT5Hcm91cCAzPC90aXRsZT4KICAgIDxkZXNjPkNyZWF0ZWQgd2l0aCBTa2V0Y2guPC9kZXNjPgogICAgPGcgaWQ9IkxhbmRpbmciIHN0cm9rZT0ibm9uZSIgc3Ryb2tlLXdpZHRoPSIxIiBmaWxsPSJub25lIiBmaWxsLXJ1bGU9ImV2ZW5vZGQiPgogICAgICAgIDxnIGlkPSJBcnRib2FyZCIgdHJhbnNmb3JtPSJ0cmFuc2xhdGUoLTEyMzUuMDAwMDAwLCAtNzkuMDAwMDAwKSI+CiAgICAgICAgICAgIDxnIGlkPSJHcm91cC0zIiB0cmFuc2Zvcm09InRyYW5zbGF0ZSgxMjM1LjAwMDAwMCwgNzkuMDAwMDAwKSI+CiAgICAgICAgICAgICAgICA8cG9seWdvbiBpZD0iUGF0aC0yMCIgZmlsbD0iIzAyNjVCNCIgcG9pbnRzPSIyLjM3NjIzNzYyIDgwIDM4LjA0NzY2NjcgODAgNTcuODIxNzgyMiA3My44MDU3NTkyIDU3LjgyMTc4MjIgMzIuNzU5MjczOSAzOS4xNDAyMjc4IDMxLjY4MzE2ODMiPjwvcG9seWdvbj4KICAgICAgICAgICAgICAgIDxwYXRoIGQ9Ik0zNS4wMDc3MTgsODAgQzQyLjkwNjIwMDcsNzYuNDU0OTM1OCA0Ny41NjQ5MTY3LDcxLjU0MjI2NzEgNDguOTgzODY2LDY1LjI2MTk5MzkgQzUxLjExMjI4OTksNTUuODQxNTg0MiA0MS42NzcxNzk1LDQ5LjIxMjIyODQgMjUuNjIzOTg0Niw0OS4yMTIyMjg0IEMyNS40ODQ5Mjg5LDQ5LjEyNjg0NDggMjkuODI2MTI5Niw0My4yODM4MjQ4IDM4LjY0NzU4NjksMzEuNjgzMTY4MyBMNzIuODcxMjg3MSwzMi41NTQ0MjUgTDY1LjI4MDk3Myw2Ny42NzYzNDIxIEw1MS4xMTIyODk5LDc3LjM3NjE0NCBMMzUuMDA3NzE4LDgwIFoiIGlkPSJQYXRoLTIyIiBmaWxsPSIjMDAyODY4Ij48L3BhdGg+CiAgICAgICAgICAgICAgICA8cGF0aCBkPSJNMCwzNy43MzA0NDA1IEwyNy4xMTQ1MzcsMC4yNTcxMTE0MzYgQzYyLjM3MTUxMjMsLTEuOTkwNzE3MDEgODAsMTAuNTAwMzkyNyA4MCwzNy43MzA0NDA1IEM4MCw2NC45NjA0ODgyIDY0Ljc3NjUwMzgsNzkuMDUwMzQxNCAzNC4zMjk1MTEzLDgwIEM0Ny4wNTUzNDg5LDc3LjU2NzA4MDggNTMuNDE4MjY3Nyw3MC4zMTM2MTAzIDUzLjQxODI2NzcsNTguMjM5NTg4NSBDNTMuNDE4MjY3Nyw0MC4xMjg1NTU3IDM2LjMwMzk1NDQsMzcuNzMwNDQwNSAyNS4yMjc0MTcsMzcuNzMwNDQwNSBDMTcuODQzMDU4NiwzNy43MzA0NDA1IDkuNDMzOTE5NjYsMzcuNzMwNDQwNSAwLDM3LjczMDQ0MDUgWiIgaWQ9IlBhdGgtMTkiIGZpbGw9IiMzNzkzRUYiPjwvcGF0aD4KICAgICAgICAgICAgPC9nPgogICAgICAgIDwvZz4KICAgIDwvZz4KPC9zdmc+' > </img>\nCreated in <span style='font-weight:600;margin-left:4px;'>Deepnote</span></a>",
   "metadata": {
    "tags": [],
    "created_in_deepnote_cell": true,
    "deepnote_cell_type": "markdown"
   }
  }
 ],
 "nbformat": 4,
 "nbformat_minor": 4,
 "metadata": {
  "interpreter": {
   "hash": "8003219c8c57211ee3be347d121ba14ebad7276cdae3d94be72d9e4e17f9edd5"
  },
  "kernelspec": {
   "display_name": "Python 3.8.8 64-bit ('base': conda)",
   "name": "python3"
  },
  "language_info": {
   "codemirror_mode": {
    "name": "ipython",
    "version": 3
   },
   "file_extension": ".py",
   "mimetype": "text/x-python",
   "name": "python",
   "nbconvert_exporter": "python",
   "pygments_lexer": "ipython3",
   "version": "3.8.8"
  },
  "deepnote_notebook_id": "380a3ab0-268a-4627-ae5c-3381f62ca922",
  "deepnote": {},
  "deepnote_execution_queue": []
 }
}